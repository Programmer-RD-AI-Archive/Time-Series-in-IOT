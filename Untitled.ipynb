{
 "cells": [
  {
   "cell_type": "code",
   "execution_count": 1,
   "id": "53608ad2-dc5e-4c6c-8810-2f9e2c5fbedd",
   "metadata": {},
   "outputs": [
    {
     "data": {
      "text/plain": [
       "<torch._C.Generator at 0x7f6919c5d330>"
      ]
     },
     "execution_count": 1,
     "metadata": {},
     "output_type": "execute_result"
    }
   ],
   "source": [
    "import random\n",
    "import seaborn as sns\n",
    "import pandas as pd\n",
    "import numpy as np\n",
    "import matplotlib.pyplot as plt\n",
    "import sklearn\n",
    "import torch,torchvision\n",
    "from torch.nn import *\n",
    "from tqdm import tqdm\n",
    "import cv2\n",
    "from torch.optim import *\n",
    "# Preproccessing\n",
    "from sklearn.preprocessing import (\n",
    "    StandardScaler,\n",
    "    RobustScaler,\n",
    "    MinMaxScaler,\n",
    "    MaxAbsScaler,\n",
    "    OneHotEncoder,\n",
    "    Normalizer,\n",
    "    Binarizer\n",
    ")\n",
    "# Decomposition\n",
    "from sklearn.decomposition import PCA\n",
    "from sklearn.decomposition import KernelPCA\n",
    "# Feature Selection\n",
    "from sklearn.feature_selection import VarianceThreshold\n",
    "from sklearn.feature_selection import SelectKBest\n",
    "from sklearn.feature_selection import RFECV\n",
    "from sklearn.feature_selection import SelectFromModel\n",
    "# Model Eval\n",
    "from sklearn.compose import make_column_transformer\n",
    "from sklearn.model_selection import GridSearchCV\n",
    "from sklearn.model_selection import cross_val_score,train_test_split\n",
    "from sklearn.metrics import mean_absolute_error,mean_squared_error\n",
    "# Other\n",
    "import pickle\n",
    "import wandb\n",
    "\n",
    "PROJECT_NAME = 'Time-Series-in-IOT'\n",
    "device = 'cuda:0'\n",
    "np.random.seed(21)\n",
    "random.seed(21)\n",
    "torch.manual_seed(21)"
   ]
  },
  {
   "cell_type": "code",
   "execution_count": 2,
   "id": "8bdb4427-34dc-4870-9850-faa00d8edeb3",
   "metadata": {},
   "outputs": [],
   "source": [
    "data = pd.read_csv('./data.csv')"
   ]
  },
  {
   "cell_type": "code",
   "execution_count": 3,
   "id": "ee1772d7-836b-44f6-9561-28ca53d081b2",
   "metadata": {},
   "outputs": [],
   "source": [
    "data = torch.from_numpy(np.array(data['Vehicles'].dropna().tolist())).view(1,-1)"
   ]
  },
  {
   "cell_type": "code",
   "execution_count": 4,
   "id": "80a4b323-9e69-46e7-a2aa-007a3ca3a120",
   "metadata": {},
   "outputs": [
    {
     "data": {
      "text/plain": [
       "torch.Size([1, 48120])"
      ]
     },
     "execution_count": 4,
     "metadata": {},
     "output_type": "execute_result"
    }
   ],
   "source": [
    "data.shape"
   ]
  },
  {
   "cell_type": "code",
   "execution_count": 5,
   "id": "b67d9180-a6bb-4cef-85ee-65012a30d538",
   "metadata": {},
   "outputs": [],
   "source": [
    "data_input = data[:1,:-1].to(device).float()\n",
    "data_target = data[:1,1:].to(device).float()"
   ]
  },
  {
   "cell_type": "code",
   "execution_count": 6,
   "id": "366b3564-b8e9-4eee-bbe4-9337f72c167f",
   "metadata": {},
   "outputs": [
    {
     "data": {
      "text/plain": [
       "tensor([[15., 13., 10.,  ..., 30., 16., 22.]], device='cuda:0')"
      ]
     },
     "execution_count": 6,
     "metadata": {},
     "output_type": "execute_result"
    }
   ],
   "source": [
    "data_input"
   ]
  },
  {
   "cell_type": "code",
   "execution_count": 7,
   "id": "f04ad065-7c5e-4166-8404-3b3399ec93e0",
   "metadata": {},
   "outputs": [
    {
     "data": {
      "text/plain": [
       "tensor([[13., 10.,  7.,  ..., 16., 22., 12.]], device='cuda:0')"
      ]
     },
     "execution_count": 7,
     "metadata": {},
     "output_type": "execute_result"
    }
   ],
   "source": [
    "data_target"
   ]
  },
  {
   "cell_type": "code",
   "execution_count": 8,
   "id": "815a4a1e-f3a1-4471-9d96-4dd75c42f6ba",
   "metadata": {},
   "outputs": [],
   "source": [
    "class Model(Module):\n",
    "    def __init__(self,hidden=256):\n",
    "        super().__init__()\n",
    "        self.hidden = hidden\n",
    "        self.lstm1 = LSTMCell(1,self.hidden).to(device)\n",
    "        self.lstm2 = LSTMCell(self.hidden,self.hidden).to(device)\n",
    "        self.linear = Linear(self.hidden,1).to(device)\n",
    "    \n",
    "    def forward(self,X,future=0):\n",
    "        preds = []\n",
    "        batch_size = X.shape[0]\n",
    "        h_t1 = torch.zeros(batch_size,self.hidden,dtype=torch.float32).to(device)\n",
    "        c_t1 = torch.zeros(batch_size,self.hidden,dtype=torch.float32).to(device)\n",
    "        h_t2 = torch.zeros(batch_size,self.hidden,dtype=torch.float32).to(device)\n",
    "        c_t2 = torch.zeros(batch_size,self.hidden,dtype=torch.float32).to(device)\n",
    "        for X_batch in X.split(1,dim=1):\n",
    "            X_batch = X_batch.to(device)\n",
    "            h_t1,c_t1 = self.lstm1(X_batch,(h_t1,c_t1))\n",
    "            h_t1 = h_t1.to(device)\n",
    "            c_t1 = c_t1.to(device)\n",
    "            h_t2,c_t2 = self.lstm2(h_t1,(h_t2,c_t2))\n",
    "            h_t2 = h_t2.to(device)\n",
    "            c_t2 = c_t2.to(device)\n",
    "            pred = self.linear(h_t2)\n",
    "            preds.append(pred)\n",
    "        for i in range(future):\n",
    "            h_t1,c_t1 = self.lstm1(X_batch,(h_t1,c_t1))\n",
    "            h_t1 = h_t1.to(device)\n",
    "            c_t1 = c_t1.to(device)\n",
    "            h_t2,c_t2 = self.lstm2(h_t1,(h_t2,c_t2))\n",
    "            h_t2 = h_t2.to(device)\n",
    "            c_t2 = c_t2.to(device)\n",
    "            pred = self.linear(h_t2)\n",
    "            preds.append(pred)\n",
    "        preds = torch.cat(preds,dim=1)\n",
    "        return preds"
   ]
  },
  {
   "cell_type": "code",
   "execution_count": 9,
   "id": "ed152d56-7fe5-41ab-9070-115091a76d4f",
   "metadata": {},
   "outputs": [],
   "source": [
    "model = Model().to(device)"
   ]
  },
  {
   "cell_type": "code",
   "execution_count": 10,
   "id": "f8554a17-2f45-478e-9da2-d8ba111efb23",
   "metadata": {},
   "outputs": [],
   "source": [
    "criterion = MSELoss()"
   ]
  },
  {
   "cell_type": "code",
   "execution_count": 11,
   "id": "1d9342aa-1e7a-4608-b2d0-a0312deaf144",
   "metadata": {},
   "outputs": [],
   "source": [
    "optimizer = LBFGS(model.parameters(),lr=0.001)"
   ]
  },
  {
   "cell_type": "code",
   "execution_count": 12,
   "id": "5f722a11-cf7e-4d8c-b965-e216324ada33",
   "metadata": {},
   "outputs": [],
   "source": [
    "epochs = 100"
   ]
  },
  {
   "cell_type": "code",
   "execution_count": 13,
   "id": "0c1728f2-ee68-45d8-8ec6-b561597ab14f",
   "metadata": {},
   "outputs": [
    {
     "name": "stderr",
     "output_type": "stream",
     "text": [
      "  0%|                                                   | 0/100 [00:00<?, ?it/s]"
     ]
    }
   ],
   "source": [
    "epochs_iter = tqdm(range(epochs))"
   ]
  },
  {
   "cell_type": "code",
   "execution_count": null,
   "id": "30ef9cb2-5612-4806-80b5-43a0ad6aee08",
   "metadata": {},
   "outputs": [
    {
     "name": "stderr",
     "output_type": "stream",
     "text": [
      "\u001b[34m\u001b[1mwandb\u001b[0m: Currently logged in as: \u001b[33mranuga-d\u001b[0m (use `wandb login --relogin` to force relogin)\n"
     ]
    },
    {
     "data": {
      "text/html": [
       "\n",
       "                Tracking run with wandb version 0.12.1<br/>\n",
       "                Syncing run <strong style=\"color:#cdcd00\">baseline</strong> to <a href=\"https://wandb.ai\" target=\"_blank\">Weights & Biases</a> <a href=\"https://docs.wandb.com/integrations/jupyter.html\" target=\"_blank\">(Documentation)</a>.<br/>\n",
       "                Project page: <a href=\"https://wandb.ai/ranuga-d/Time-Series-in-IOT\" target=\"_blank\">https://wandb.ai/ranuga-d/Time-Series-in-IOT</a><br/>\n",
       "                Run page: <a href=\"https://wandb.ai/ranuga-d/Time-Series-in-IOT/runs/8wqyldl0\" target=\"_blank\">https://wandb.ai/ranuga-d/Time-Series-in-IOT/runs/8wqyldl0</a><br/>\n",
       "                Run data is saved locally in <code>/home/indika/Programming/Projects/Python/Artifical-Intelligence/PyTorch/RNN/Time-Series-in-IOT/wandb/run-20210906_144020-8wqyldl0</code><br/><br/>\n",
       "            "
      ],
      "text/plain": [
       "<IPython.core.display.HTML object>"
      ]
     },
     "metadata": {},
     "output_type": "display_data"
    },
    {
     "name": "stderr",
     "output_type": "stream",
     "text": [
      "loss backward:   0%|                                    | 0/100 [00:18<?, ?it/s]"
     ]
    }
   ],
   "source": [
    "wandb.init(project=PROJECT_NAME,name='baseline')\n",
    "wandb.watch(model)\n",
    "for _ in epochs_iter:\n",
    "    def closure():\n",
    "        optimizer.zero_grad()\n",
    "        epochs_iter.set_description('predicting')\n",
    "        preds = model(data_input)\n",
    "        epochs_iter.set_description('loss')\n",
    "        loss = criterion(preds,data_target)\n",
    "        epochs_iter.set_description('loss backward')\n",
    "        loss.backward()\n",
    "        epochs_iter.set_description('logging')\n",
    "        wandb.log({'Loss':loss.item()})\n",
    "        return loss\n",
    "    epochs_iter.set_description('step')\n",
    "    optimizer.step(closure)\n",
    "    with torch.no_grad():\n",
    "        future = 100\n",
    "        epochs_iter.set_description('test predicting')\n",
    "        preds = model(data_input,future)\n",
    "        epochs_iter.set_description('loss')\n",
    "        loss = criterion(preds[:,:-future],data_target)\n",
    "        epochs_iter.set_description('logging')\n",
    "        wandb.log({'Val Loss':loss.item()})\n",
    "        preds = preds[0].cpu().detach().numpy()\n",
    "        n = data_input.shape[1]\n",
    "        epochs_iter.set_description('plotting')\n",
    "        plt.figure(figsize=(12,6))\n",
    "        plt.plot(np.arange(n),data_target.view(-1).cpu().detach().numpy())\n",
    "        plt.plot(np.arange(n,n+future),preds[n:])\n",
    "        plt.savefig('./img.png')\n",
    "        plt.close()\n",
    "        epochs_iter.set_description('logging')\n",
    "        wandb.log({'Img':wandb.Image(cv2.imread('./img.png'))})\n",
    "wandb.watch(model)\n",
    "wandb.finish()"
   ]
  },
  {
   "cell_type": "code",
   "execution_count": null,
   "id": "4964fab7-938e-4964-98c3-7a92576f5aae",
   "metadata": {},
   "outputs": [],
   "source": []
  }
 ],
 "metadata": {
  "kernelspec": {
   "display_name": "Python 3.7.3 64-bit ('base': conda)",
   "language": "python",
   "name": "python373jvsc74a57bd0210f9608a45c0278a93c9e0b10db32a427986ab48cfc0d20c139811eb78c4bbc"
  },
  "language_info": {
   "codemirror_mode": {
    "name": "ipython",
    "version": 3
   },
   "file_extension": ".py",
   "mimetype": "text/x-python",
   "name": "python",
   "nbconvert_exporter": "python",
   "pygments_lexer": "ipython3",
   "version": "3.7.11"
  }
 },
 "nbformat": 4,
 "nbformat_minor": 5
}
